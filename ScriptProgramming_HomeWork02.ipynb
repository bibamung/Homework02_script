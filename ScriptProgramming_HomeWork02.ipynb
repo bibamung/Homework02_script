{
 "cells": [
  {
   "cell_type": "markdown",
   "id": "bec9144c",
   "metadata": {},
   "source": [
    "# 2018136015_김성원_스크립트프로그래밍_Homework02"
   ]
  },
  {
   "cell_type": "markdown",
   "id": "4f7eebcd",
   "metadata": {},
   "source": [
    "## [일반 문제]"
   ]
  },
  {
   "cell_type": "markdown",
   "id": "284e14be",
   "metadata": {},
   "source": [
    "#### 1. 다음 6 개의 Expression에 대해 Evaluation 결과 값을 출력하고, 해당 결과가 나온 이유에 대해 설명하시오"
   ]
  },
  {
   "cell_type": "code",
   "execution_count": 1,
   "id": "8ecc3280",
   "metadata": {},
   "outputs": [
    {
     "data": {
      "text/plain": [
       "4"
      ]
     },
     "execution_count": 1,
     "metadata": {},
     "output_type": "execute_result"
    }
   ],
   "source": [
    "1 and 2 and 3 and 4"
   ]
  },
  {
   "cell_type": "markdown",
   "id": "a4a1bc75",
   "metadata": {},
   "source": [
    "이유 : 모두 and연산 이므로 컴퓨터 상에서는 4까지 모두 읽어야하기 때문에 결과값이 4가 나왔다"
   ]
  },
  {
   "cell_type": "code",
   "execution_count": 2,
   "id": "c881d885",
   "metadata": {},
   "outputs": [
    {
     "data": {
      "text/plain": [
       "1"
      ]
     },
     "execution_count": 2,
     "metadata": {},
     "output_type": "execute_result"
    }
   ],
   "source": [
    "1 or 2 or 3 or 4"
   ]
  },
  {
   "cell_type": "markdown",
   "id": "404a3a94",
   "metadata": {},
   "source": [
    "이유 : 연산이 모두 or이고 하나의 값이 참이라면, 뒤의 값을 신경쓰지 않아도 되기때문에 결과값이 1이 나왔다."
   ]
  },
  {
   "cell_type": "code",
   "execution_count": 1,
   "id": "9a3c365a",
   "metadata": {},
   "outputs": [
    {
     "data": {
      "text/plain": [
       "1"
      ]
     },
     "execution_count": 1,
     "metadata": {},
     "output_type": "execute_result"
    }
   ],
   "source": [
    "1 and 2 or 3 and 4"
   ]
  },
  {
   "cell_type": "markdown",
   "id": "e5d6488e",
   "metadata": {},
   "source": [
    "이유 : 1과 2사이의 연산자가 and여서 컴퓨터는 2까지 값을 읽어야하고, 이후에 or연산자가 나왔기떄문에 뒤의 값을 읽지 않아도 되기 때문에 결과값이 2가 나왔다."
   ]
  },
  {
   "cell_type": "code",
   "execution_count": 4,
   "id": "1e607768",
   "metadata": {},
   "outputs": [
    {
     "data": {
      "text/plain": [
       "2"
      ]
     },
     "execution_count": 4,
     "metadata": {},
     "output_type": "execute_result"
    }
   ],
   "source": [
    "(1 and 2) or (3 and 4)"
   ]
  },
  {
   "cell_type": "markdown",
   "id": "c379871f",
   "metadata": {},
   "source": [
    "이유 : 1과 2사이의 연산자가 and이고, 그 이후에 연산자가 or이므로 컴퓨터가 마지막에 읽은 값은 2가 반환되어 결과값으로 출력됨"
   ]
  },
  {
   "cell_type": "code",
   "execution_count": 2,
   "id": "422fc13e",
   "metadata": {},
   "outputs": [
    {
     "data": {
      "text/plain": [
       "1"
      ]
     },
     "execution_count": 2,
     "metadata": {},
     "output_type": "execute_result"
    }
   ],
   "source": [
    "1 or 2 and 3 or 4"
   ]
  },
  {
   "cell_type": "markdown",
   "id": "22931653",
   "metadata": {},
   "source": [
    "이유 : 1 이후의 연산자가 or이므로 컴퓨터가 마지막에 읽은 값인 1이 반환되여 결과값으로 출력됨"
   ]
  },
  {
   "cell_type": "code",
   "execution_count": 6,
   "id": "ff19477f",
   "metadata": {},
   "outputs": [
    {
     "data": {
      "text/plain": [
       "3"
      ]
     },
     "execution_count": 6,
     "metadata": {},
     "output_type": "execute_result"
    }
   ],
   "source": [
    "(1 or 2) and (3 or 4)"
   ]
  },
  {
   "cell_type": "markdown",
   "id": "a372193f",
   "metadata": {},
   "source": [
    "이유 : '(1 or 2)'의 값이 참이여도 and연산자로 인해 컴퓨터가 뒤에 있는 '(3 or 4)'를 계산해야하고, 3과 4의 연산이 or이므로 컴퓨터는 마지막으로 반환하는 값이 3이므로 결과값으로 3이 출력됨"
   ]
  },
  {
   "cell_type": "markdown",
   "id": "f56130a1",
   "metadata": {},
   "source": [
    "# "
   ]
  },
  {
   "cell_type": "markdown",
   "id": "9aab3267",
   "metadata": {},
   "source": [
    "#### 2. 경로에 해당하는 문자열 1개를 입력 받아 그 안에 디렉토리 경로명과 파일명을 분리하여 리스트로 반환하는 함수 div_path(s)를 작성하시오.  \n",
    "- 인자로 전달하는 문자열은 경로만 들어간다고 가정한다.  \n",
    "- 각 디렉토리와 파일을 구분하는 문자는 '/'로 가정한다.  \n",
    "- 반환하는 리스트의 첫번째 원소는 디렉토리이고 두번째 원소는 파일명이다.  \n",
    "- 다음과 같은 실행 및 출력 결과가 도출되어야 한다.  \n",
    "    - div_path('/usr/local/bin/python')\n",
    "        - ['/usr/local/bin', 'python']\n",
    "    - div_path('/home/chulsoo/test.txt')\n",
    "        - ['/home/chulsoo', 'test.txt']\n",
    "- [참고] 리스트(l) 내에 새로운 정수값 (예를 들어 10)을 넣는 방법은 l.append(10) 이다."
   ]
  },
  {
   "cell_type": "code",
   "execution_count": 7,
   "id": "fd86fe53",
   "metadata": {},
   "outputs": [],
   "source": [
    "def div_path (s):\n",
    "    for i in range(len(s)-1,-1,-1): #i는 문자열의 마지막 인덱스를 시작으로 0까지 -1씩 감소\n",
    "        if s[i] == '/':\n",
    "            break\n",
    "    return [s[0:i],s[i+1:]]"
   ]
  },
  {
   "cell_type": "code",
   "execution_count": 8,
   "id": "0af7b80e",
   "metadata": {},
   "outputs": [
    {
     "data": {
      "text/plain": [
       "['/usr/local/bin', 'python']"
      ]
     },
     "execution_count": 8,
     "metadata": {},
     "output_type": "execute_result"
    }
   ],
   "source": [
    "div_path('/usr/local/bin/python')"
   ]
  },
  {
   "cell_type": "code",
   "execution_count": 9,
   "id": "bd176551",
   "metadata": {},
   "outputs": [
    {
     "data": {
      "text/plain": [
       "['/home/chulsoo', 'test.txt']"
      ]
     },
     "execution_count": 9,
     "metadata": {},
     "output_type": "execute_result"
    }
   ],
   "source": [
    "div_path('/home/chulsoo/test.txt')"
   ]
  },
  {
   "cell_type": "markdown",
   "id": "5c6df7e9",
   "metadata": {},
   "source": [
    "문자열의 끝 인덱스부터 탐색하여 처음 나오는 '/'의 인덱스에서 슬라이싱하여 문제를 해결함"
   ]
  },
  {
   "cell_type": "markdown",
   "id": "90586db6",
   "metadata": {},
   "source": [
    "## "
   ]
  },
  {
   "cell_type": "markdown",
   "id": "81859810",
   "metadata": {},
   "source": [
    "#### 3. 두 개의 리스트를 인자로 받아서 그 두 개의 리스트에 대한 '합집합'을 반환하는 함수 list_union(lista, listb)를 작성하시오.\n",
    "- #### 집합 자료형 set은 사용하지 않는다.\n",
    "- 인자로 전달하는 리스트 2 개에는 정수값만 들어간다고 가정하자.\n",
    "- 함수 내에서 새로운 리스트를 만들어 그 리스트 내에 인자로 받은 두 리스트의 모든 원소를 넣어 반환한다.\n",
    "- 반환하는 리스트에는 절대로 중복된 원소가 들어 있으면 안된다 (집합의 조건).\n",
    "- 반환하는 리스트는 정렬이 되어 있어야 한다.\n",
    "- 다음과 같은 실행 및 출력 결과가 도출되어야 한다.\n",
    "    - list_union([1, 2, 3], [1, 2, 4])\n",
    "        - [1, 2, 3, 4]\n",
    "    - list_union([-10, -5, 0, -1], [100, 9, 0, 9])\n",
    "        - [-10, -5, -1, 0, 9, 100]\n",
    "    - list_union([0, 1, 2], [0, 1, 2])\n",
    "        - [0, 1, 2]\n",
    "- [참고] 리스트(l) 내에 새로운 정수값 (예를 들어 10)을 넣는 방법은 l.append(10) 이다.\n",
    "- [참고] 임의의 정수값 (x)이 리스트 (l) 내에 존재하는지 판단하는 방법은 x in l 이다."
   ]
  },
  {
   "cell_type": "code",
   "execution_count": 10,
   "id": "a108dc48",
   "metadata": {},
   "outputs": [],
   "source": [
    "def Ded(s):        #리스트 중복제거\n",
    "    new_list=[]\n",
    "    for i in s:\n",
    "        if i not in new_list:\n",
    "            new_list.append(i)\n",
    "    return (new_list)"
   ]
  },
  {
   "cell_type": "code",
   "execution_count": 11,
   "id": "1af7dd72",
   "metadata": {},
   "outputs": [],
   "source": [
    "def list_union(lista, listb):\n",
    "    lista = Ded(lista)  #중복제거\n",
    "    listb = Ded(listb)  #중복제거\n",
    "    new_list=[]  #lista에는 없고, listb에만 있는 값을 저장할 인덱스\n",
    "    for j in range(len(listb)):\n",
    "        if listb[j] not in lista : #listb의 각 인덱스의 값들이 리스트 lista에 들어있지 않으면 실행\n",
    "            new_list.append(listb[j])\n",
    "    res_list = new_list+lista\n",
    "    res_list.sort()      #리스트를 정렬\n",
    "    return (res_list)"
   ]
  },
  {
   "cell_type": "code",
   "execution_count": 13,
   "id": "e83bb420",
   "metadata": {},
   "outputs": [
    {
     "name": "stdout",
     "output_type": "stream",
     "text": [
      "[1, 2, 3, 4]\n"
     ]
    }
   ],
   "source": [
    "print(list_union([1, 2, 3], [1, 2, 4]))"
   ]
  },
  {
   "cell_type": "code",
   "execution_count": 15,
   "id": "115ae42e",
   "metadata": {},
   "outputs": [
    {
     "name": "stdout",
     "output_type": "stream",
     "text": [
      "[-10, -5, -1, 0, 9, 100]\n"
     ]
    }
   ],
   "source": [
    "print(list_union([-10, -5, 0, -1], [100, 9, 0, 9]))"
   ]
  },
  {
   "cell_type": "code",
   "execution_count": 14,
   "id": "6b374268",
   "metadata": {},
   "outputs": [
    {
     "name": "stdout",
     "output_type": "stream",
     "text": [
      "[0, 1, 2]\n"
     ]
    }
   ],
   "source": [
    "print(list_union([0, 1, 2], [0, 1, 2]))"
   ]
  },
  {
   "cell_type": "markdown",
   "id": "73e7f65f",
   "metadata": {},
   "source": [
    "Ded()함수를 이용하여 각 리스트의 중복을 제거하여 새로운 리스트에 저장하여 반환하였다.  \n",
    "list_union(lista, listb) 함수를 통해 listb의 각 인덱스의 값들이 lista에 존재하는지 검사를 하고 없다면 new_list에 저장을하여 중복되는 값들을 없앴고, 이후에 res_list에 new_list와 lista를 합쳐서 저장함으로써 두 리스트의 합집합 함수를 구현함."
   ]
  },
  {
   "cell_type": "markdown",
   "id": "b8891f49",
   "metadata": {},
   "source": [
    "## "
   ]
  },
  {
   "cell_type": "markdown",
   "id": "048128b5",
   "metadata": {},
   "source": [
    "#### 4. 두 개의 리스트를 인자로 받아서 그 두 개의 리스트에 대한 '교집합'을 반환하는 함수 list_intersection(lista, listb)와 '차집합'을 반환하는 함수 list_difference(lista, listb)를 작성하시오.  \n",
    "- 모든 가정과 조건은 3번 문제와 동일하다."
   ]
  },
  {
   "cell_type": "code",
   "execution_count": 17,
   "id": "5897a3d4",
   "metadata": {},
   "outputs": [],
   "source": [
    "def list_intersection(lista, listb):\n",
    "    new_list=[]  #교집합의 값들을 저장할 리스트\n",
    "    for i in range(len(listb)):\n",
    "        if listb[i] in lista :  #listb의 각 인덱스의 값들이 리스트 lista에 들어있으면 실행\n",
    "            new_list.append(listb[i])\n",
    "    new_list.sort()\n",
    "    return new_list"
   ]
  },
  {
   "cell_type": "code",
   "execution_count": 18,
   "id": "7a69a515",
   "metadata": {},
   "outputs": [],
   "source": [
    "def list_difference(lista, listb):\n",
    "    new_list=[]  #교집합의 요소들\n",
    "    differ = []  #차집합\n",
    "    for i in range(len(listb)):\n",
    "        if listb[i] in lista :\n",
    "            new_list.append(listb[i])\n",
    "    for i in range(len(lista)):\n",
    "        if lista[i] not in new_list :\n",
    "            differ.append(lista[i])        \n",
    "            \n",
    "    differ.sort()\n",
    "    return differ"
   ]
  },
  {
   "cell_type": "code",
   "execution_count": 23,
   "id": "f95ac34f",
   "metadata": {},
   "outputs": [
    {
     "name": "stdout",
     "output_type": "stream",
     "text": [
      "[0]\n"
     ]
    }
   ],
   "source": [
    "print(list_intersection([-10, -5, 0, -1], [100, 9, 0, 9]))"
   ]
  },
  {
   "cell_type": "code",
   "execution_count": 24,
   "id": "278734ff",
   "metadata": {},
   "outputs": [
    {
     "name": "stdout",
     "output_type": "stream",
     "text": [
      "[0, 1, 2]\n"
     ]
    }
   ],
   "source": [
    "print(list_intersection([0, 1, 2], [0, 1, 2]))"
   ]
  },
  {
   "cell_type": "code",
   "execution_count": 25,
   "id": "70c4152b",
   "metadata": {},
   "outputs": [
    {
     "name": "stdout",
     "output_type": "stream",
     "text": [
      "[1, 2]\n"
     ]
    }
   ],
   "source": [
    "print(list_intersection([1, 2, 3], [1, 2, 4]))"
   ]
  },
  {
   "cell_type": "code",
   "execution_count": 19,
   "id": "8ebe3eb0",
   "metadata": {},
   "outputs": [
    {
     "name": "stdout",
     "output_type": "stream",
     "text": [
      "[-10, -5, -1]\n"
     ]
    }
   ],
   "source": [
    "print(list_difference([-10, -5, 0, -1], [100, 9, 0, 9]))"
   ]
  },
  {
   "cell_type": "code",
   "execution_count": 21,
   "id": "c4f4ad29",
   "metadata": {},
   "outputs": [
    {
     "name": "stdout",
     "output_type": "stream",
     "text": [
      "[]\n"
     ]
    }
   ],
   "source": [
    "print(list_difference([0, 1, 2], [0, 1, 2]))"
   ]
  },
  {
   "cell_type": "code",
   "execution_count": 22,
   "id": "07e7f5d0",
   "metadata": {},
   "outputs": [
    {
     "name": "stdout",
     "output_type": "stream",
     "text": [
      "[3]\n"
     ]
    }
   ],
   "source": [
    "print(list_difference([1, 2, 3], [1, 2, 4]))"
   ]
  },
  {
   "cell_type": "markdown",
   "id": "7e39d793",
   "metadata": {},
   "source": [
    "'교집합'을 반환하는 함수:  \n",
    "위의 합집함 함수와 비슷하게 교집합 함수인 list_intersection(lista, listb)함수는 리스트 listb의 각 인덱스의 값들이 리스트 lista에 들어있는지 확인하고, 만약 들어있다면 new_list에 해당 인덱스의 값을 추가하여 저장하였고, 문제에서 정렬된 형태로 출력을 지시하였기 때문에, new_list를 정렬하여 반환하여 구현하였다.  \n",
    "'차집합'을 반환하는 함수:  \n",
    "차집합은 lista에서 lista와 listb에서 교집합된 부분을 제외하면 값을 얻을수 있기때문에, 교집합함수에서와 마찬가지로 교집합 되는 값들을 new_list에 저장을 하고, 반복문을 통해 new_list의 각 인덱스의 값들을 lista와 비교해 해당 인덱스의 값이 lista에 존재하지 않는다면 리스트 differ에 저장하도록 하였다. 그리고 differ를 반환하여 두 리스트의 차집합이 반환되도록 함수를 구현하였다."
   ]
  },
  {
   "cell_type": "markdown",
   "id": "e530024e",
   "metadata": {},
   "source": [
    "## "
   ]
  },
  {
   "cell_type": "markdown",
   "id": "7f981e60",
   "metadata": {},
   "source": [
    "#### 5. 두 개의 양의 정수를 인자로 받아서 해당 범위안에 있는 소수(prime number)의 리스트를 출력하는 함수 print_primenumber(a, b)를 작성하시오.\n",
    "- 이미 구현된 모듈이나 라이브러리는 사용하지 않는다.\n",
    "- 함수의 반환(return)은 없으며 함수 내의 끝에서 .format()을 사용하여 다음과 같이 출력한다.\n",
    "    - print_primenumber(2, 10)\n",
    "        - 2 이상 10 이하 정수 중 소수 리스트: [2, 3, 5, 7]"
   ]
  },
  {
   "cell_type": "code",
   "execution_count": 33,
   "id": "051f0b5b",
   "metadata": {},
   "outputs": [],
   "source": [
    "def print_primenumber(a, b):\n",
    "    prime_list = []\n",
    "    for i in range (a,b):\n",
    "        result = True\n",
    "        if i < 2: #0과 1은 소수가 될수 없음.\n",
    "            result = False\n",
    "        for j in range(2,i):  \n",
    "            if i % j == 0:  #1이 아닌 자기보다 작은수로 나누어 떨어지면 실행\n",
    "                result = False\n",
    "        if result: \n",
    "            prime_list.append(i) #result의 값이 True면 리스트prime_list에 저장\n",
    "    print('{} 이상 {} 이하 정수 중 소수 리스트 : {}'.format(a,b,prime_list))"
   ]
  },
  {
   "cell_type": "code",
   "execution_count": 38,
   "id": "1886394f",
   "metadata": {},
   "outputs": [
    {
     "name": "stdout",
     "output_type": "stream",
     "text": [
      "2 이상 10 이하 정수 중 소수 리스트 : [2, 3, 5, 7]\n"
     ]
    }
   ],
   "source": [
    "print_primenumber(2, 10)"
   ]
  },
  {
   "cell_type": "markdown",
   "id": "a5005f10",
   "metadata": {},
   "source": [
    "저번 과제에 있던 1부터100까지 존재하는 소수를 출력하는 문제와 비슷하였고,  \n",
    "마찬가지로  \n",
    "if i < 2:  \n",
    "&nbsp;&nbsp;&nbsp;&nbsp;result = False  \n",
    "에서 2보다 작은 정수인 0,1은 소수가 될수 없으므로 검사하지 않았다.  \n",
    "for j in range(2,i):  \n",
    "&nbsp;&nbsp;&nbsp;&nbsp;if i % j == 0:  \n",
    "&nbsp;&nbsp;&nbsp;&nbsp;&nbsp;&nbsp;&nbsp;&nbsp;result = False  \n",
    "에서 현재 검사 받는 값이 1과 자기 숫자가아닌 다른 숫자로 나누어 떨어지며 False를 반환하여 리스트에 저장하지 않게 하였다."
   ]
  },
  {
   "cell_type": "markdown",
   "id": "37d5d692",
   "metadata": {},
   "source": [
    "## "
   ]
  },
  {
   "cell_type": "markdown",
   "id": "95db27f8",
   "metadata": {},
   "source": [
    "## [Incremental Project 문제]"
   ]
  },
  {
   "cell_type": "markdown",
   "id": "0016b7a6",
   "metadata": {},
   "source": [
    "#### 웹 URL로 지정된 웹페이지를 문자열로 가져와 1) 모든 HTML 태그를 제외한 순수 텍스트 문자열만을 걸러내고, 2) 그 순수 텍스트 문자열 안에 존재하는 단어가 총 몇개인지 출력하는 프로그램을 작성하시오."
   ]
  },
  {
   "cell_type": "code",
   "execution_count": 3,
   "id": "efd33791",
   "metadata": {
    "scrolled": false
   },
   "outputs": [],
   "source": [
    "import requests\n",
    "\n",
    "req = requests.get('http://cse.koreatech.ac.kr')\n",
    "\n",
    "source = req.text"
   ]
  },
  {
   "cell_type": "code",
   "execution_count": null,
   "id": "e4bb82b5",
   "metadata": {
    "scrolled": false
   },
   "outputs": [],
   "source": [
    "print(source)"
   ]
  },
  {
   "cell_type": "code",
   "execution_count": 55,
   "id": "8213ef34",
   "metadata": {},
   "outputs": [],
   "source": [
    "def StringSearch():\n",
    "    new1_list=[]\n",
    "    for i in range(len(source)):\n",
    "        for j in range(i,len(source)):\n",
    "            if source[i] == '>':\n",
    "                if source[j] == '<':\n",
    "                    new1_list.append(source[i+1:j])\n",
    "                    break\n",
    "    new2_list=[]\n",
    "    for i in range(len(new1_list)):\n",
    "        if '\\n' not in new1_list[i]:\n",
    "             new2_list.append(new1_list[i])\n",
    "    new3_list=[]\n",
    "    for i in range(len(new2_list)):\n",
    "        new3_list += new2_list[i].split()\n",
    "    print(len(new3_list))\n",
    "    return new3_list"
   ]
  },
  {
   "cell_type": "code",
   "execution_count": 56,
   "id": "6594078c",
   "metadata": {},
   "outputs": [
    {
     "name": "stdout",
     "output_type": "stream",
     "text": [
      "21\n"
     ]
    },
    {
     "data": {
      "text/plain": [
       "['Page',\n",
       " 'Redirection',\n",
       " '사이트',\n",
       " '폐쇄',\n",
       " '안내.',\n",
       " '특성화',\n",
       " '사업',\n",
       " '종료로',\n",
       " '인한',\n",
       " 'itcsw.koreatech.ac.kr',\n",
       " '사이트가',\n",
       " '폐쇄되었습니다.',\n",
       " '잠시후',\n",
       " '컴퓨터공학부',\n",
       " '홈페이지로',\n",
       " '자동',\n",
       " '연결',\n",
       " '됩니다.',\n",
       " 'link',\n",
       " 'to',\n",
       " 'cse.koreatech.ac.kr']"
      ]
     },
     "execution_count": 56,
     "metadata": {},
     "output_type": "execute_result"
    }
   ],
   "source": [
    "StringSearch()"
   ]
  },
  {
   "cell_type": "code",
   "execution_count": 54,
   "id": "146219a2",
   "metadata": {},
   "outputs": [
    {
     "name": "stdout",
     "output_type": "stream",
     "text": [
      "<class 'NoneType'>\n"
     ]
    }
   ],
   "source": [
    "print(type(count_word))"
   ]
  },
  {
   "cell_type": "markdown",
   "id": "56c5e02e",
   "metadata": {},
   "source": [
    "첫번째 for문: 문자열 source를 탐색하여 <>사이에 들어가 있지 않은 문자열을 리스트 new1_list에 저장하였다.  \n",
    "  \n",
    "두번째 for문: new1_list에는 < >로 이루어진 형태들이 저장되지 않은 상태이지만, 개행문자가 같이 포함된 문자열이 저장되었기 때문에 각 인덱스의 값(=문자열)을 다시 탐색하여 개행문자를 포함하고 있지 않은 문자열을 new2_list에 저장하였다.  \n",
    "  \n",
    "세번째 for문: new2_list의 각 인덱스에 저장된 문자열을 각 단어 별로 구별하기 위해서, 각 인덱스의 문자열을 split()을 통해 공백문자가 발생하면 분리하도록하여 순수한 문자열만 출력하도록 하였다."
   ]
  },
  {
   "cell_type": "markdown",
   "id": "bec2c311",
   "metadata": {
    "scrolled": false
   },
   "source": [
    "## "
   ]
  },
  {
   "cell_type": "markdown",
   "id": "ed35bed5",
   "metadata": {},
   "source": [
    "## "
   ]
  },
  {
   "cell_type": "markdown",
   "id": "c12afa23",
   "metadata": {},
   "source": [
    "# 소감\n",
    "  \n",
    "이번 문제들로 통해 리스트에 대한 활용도를 높을 수 있었고, 이번 과제와는 별개이지만, 합집합 함수에서 리스트를 활용하기보다는 set을 활용하면 함수를 따로 만들지않아도 중복된 값을 따로출력하지 않는다는 것을 알게 되었고, set을 활용하지 않고 리스트만을 활용해서도 합집함함수를 구현할수 있다는 것을 알게되었다.  \n",
    "또한, .format()을 활용하면 print()구문을 보다 깔끔하게 활용할 수 있다는 것을 알게되었다.\n",
    "'Incremental Project' 문제에서 처음에는 어떻게 해야할지 막막했는데, 단계별로 나누어 해결을 하여 문제를 해결할 수 있었고, 물론 위 코딩이 완벽한 코딩이 아닐지라도, 문제에 접근했다는 것 자체에 뿌듯함을 느꼈다.\n"
   ]
  }
 ],
 "metadata": {
  "kernelspec": {
   "display_name": "Python 3",
   "language": "python",
   "name": "python3"
  },
  "language_info": {
   "codemirror_mode": {
    "name": "ipython",
    "version": 3
   },
   "file_extension": ".py",
   "mimetype": "text/x-python",
   "name": "python",
   "nbconvert_exporter": "python",
   "pygments_lexer": "ipython3",
   "version": "3.8.8"
  }
 },
 "nbformat": 4,
 "nbformat_minor": 5
}
